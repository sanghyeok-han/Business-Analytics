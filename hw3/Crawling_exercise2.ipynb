{
 "cells": [
  {
   "cell_type": "markdown",
   "metadata": {},
   "source": [
    "\n",
    "<h1 id=\"(Optional)-웹-크롤링2---Dynamic-Crawling\">(Optional) 웹 크롤링2 - Dynamic Crawling<a class=\"anchor-link\" href=\"#(Optional)-웹-크롤링2---Dynamic-Crawling\">¶</a></h1>\n"
   ]
  },
  {
   "cell_type": "markdown",
   "metadata": {},
   "source": [
    "\n",
    "<h1 id=\"0.-라이브러리\">0. 라이브러리<a class=\"anchor-link\" href=\"#0.-라이브러리\">¶</a></h1>\n"
   ]
  },
  {
   "cell_type": "code",
   "execution_count": 2,
   "metadata": {},
   "outputs": [],
   "source": [
    "# headless 옵션을 통하여 창을 안띄우고 스크래핑하는 것도 가능함\n",
    "from selenium import webdriver\n",
    "from selenium.webdriver.common.by import By\n",
    "from selenium.webdriver.support.ui import WebDriverWait\n",
    "from selenium.webdriver.support import expected_conditions as EC\n",
    "from bs4 import BeautifulSoup\n",
    "import pandas as pd\n",
    "from pandas import DataFrame\n",
    "import time\n",
    "\n"
   ]
  },
  {
   "cell_type": "markdown",
   "metadata": {},
   "source": [
    "\n",
    "<h1 id=\"1.-Selenium-기초\">1. Selenium 기초<a class=\"anchor-link\" href=\"#1.-Selenium-기초\">¶</a></h1><p>자신의 크롬 버전을 확인하고 크롬 <a href=\"https://chromedriver.chromium.org/downloads\">웹드라이버</a>를 다운받아놓아야합니다.</p>\n",
    "<ul>\n",
    "<li>2020.09.13 기준 최신 버전: <code>85.0.4183.102</code></li>\n",
    "</ul>\n"
   ]
  },
  {
   "cell_type": "markdown",
   "metadata": {},
   "source": [
    "\n",
    "<h3 id=\"1.1.-Simple-Text-Crawling\">1.1. Simple Text Crawling<a class=\"anchor-link\" href=\"#1.1.-Simple-Text-Crawling\">¶</a></h3><p>멜론 사이트에서 노래 제목을 크롤링해보자</p>\n",
    "<p>URL: <a href=\"https://www.melon.com/chart/index.htm\">https://www.melon.com/chart/index.htm</a></p>\n"
   ]
  },
  {
   "cell_type": "code",
   "execution_count": 4,
   "metadata": {},
   "outputs": [],
   "source": [
    "# 크롬드라이버 경로 지정\n",
    "DRIVER_PATH = 'C:/selenium/chromedriver.exe'\n"
   ]
  },
  {
   "cell_type": "code",
   "execution_count": 5,
   "metadata": {},
   "outputs": [
    {
     "data": {
      "text/plain": [
       "'Dynamite\\n방탄소년단'"
      ]
     },
     "execution_count": 5,
     "metadata": {},
     "output_type": "execute_result"
    }
   ],
   "source": [
    "# chrome driver 설정\n",
    "driver = webdriver.Chrome(DRIVER_PATH) \n",
    "driver.implicitly_wait(10)\n",
    "\n",
    "url = \"https://www.melon.com/chart/index.htm\"\n",
    "\n",
    "# 해당 url로 접속함\n",
    "driver.get(url)\n",
    "\n",
    "# 이 부분 코드는 뒤에서 쓰이지 않음\n",
    "html = driver.page_source\n",
    "soup = BeautifulSoup(html, 'html.parser')\n",
    "\n",
    "# title crawling\n",
    "# WebDriverWait를 통해서 당장 엘리먼트가 나타나지 않아도 20초까지 기다릴 수 있게 함\n",
    "title = WebDriverWait(driver, 20) \\\n",
    "    .until(EC.presence_of_element_located((By.CSS_SELECTOR, \"#frm > div > table > tbody > tr:nth-child(1) > td:nth-child(4) > div > div\")))\n",
    "\n",
    "# print(\"Title: {}\".format(title.text))\n",
    "\n",
    "title.text\n",
    "\n",
    "# 윈도우에서 브라우저 창이 누적되는 것을 방지하기 위하여 사용함\n",
    "driver.close()"
   ]
  },
  {
   "cell_type": "markdown",
   "metadata": {},
   "source": [
    "\n",
    "<p>css selector의 <strong><code>규칙</code></strong>을 찾아본다</p>\n",
    "<ul>\n",
    "<li>1번째 제목: #frm &gt; div &gt; table &gt; tbody &gt; tr:nth-child(<strong>1</strong>) &gt; td:nth-child(4) &gt; div &gt; div\"</li>\n",
    "<li>2번째 제목: #frm &gt; div &gt; table &gt; tbody &gt; tr:nth-child(<strong>2</strong>) &gt; td:nth-child(4) &gt; div &gt; div</li>\n",
    "</ul>\n",
    "<p>.\n",
    ".\n",
    ".</p>\n",
    "<ul>\n",
    "<li>100번째 제목: #frm &gt; div &gt; table &gt; tbody &gt; tr:nth-child(<strong>100</strong>) &gt; td:nth-child(4) &gt; div &gt; div</li>\n",
    "</ul>\n",
    "<hr/>\n",
    "<p>또는 <code>XPATH</code>로도 확인해보자 (<code>full Xpath</code>)</p>\n",
    "<ul>\n",
    "<li>1번째 제목: //*[@id=\"frm\"]/div/table/tbody/tr[<strong>1</strong>]/td[4]/div/div</li>\n",
    "<li>2번째 제목: //*[@id=\"frm\"]/div/table/tbody/tr[<strong>2</strong>]/td[4]/div/div</li>\n",
    "</ul>\n",
    "<p>.\n",
    ".\n",
    ".</p>\n",
    "<ul>\n",
    "<li>50번째 제목: //*[@id=\"frm\"]/div/table/tbody/tr[<strong>100</strong>]/td[4]/div/div</li>\n",
    "</ul>\n"
   ]
  },
  {
   "cell_type": "code",
   "execution_count": 6,
   "metadata": {},
   "outputs": [
    {
     "data": {
      "text/plain": [
       "'취기를 빌려 (취향저격 그녀 X 산들)\\n산들'"
      ]
     },
     "execution_count": 6,
     "metadata": {},
     "output_type": "execute_result"
    }
   ],
   "source": [
    "\n",
    "# 2번째 제목 크롤링\n",
    "WebDriverWait(driver, 20) \\\n",
    "    .until(EC.presence_of_element_located((By.XPATH, \"//*[@id='frm']/div/table/tbody/tr[2]/td[4]/div/div\"))).text\n",
    "\n"
   ]
  },
  {
   "cell_type": "markdown",
   "metadata": {},
   "source": [
    "\n",
    "<h3 id=\"1.2.-Text-Crawling-with-for-loop\">1.2. Text Crawling with for loop<a class=\"anchor-link\" href=\"#1.2.-Text-Crawling-with-for-loop\">¶</a></h3><p>위에서 찾은 Xpath의 규칙을 바탕으로 for loop 만들자</p>\n"
   ]
  },
  {
   "cell_type": "code",
   "execution_count": 7,
   "metadata": {},
   "outputs": [
    {
     "name": "stdout",
     "output_type": "stream",
     "text": [
      "['Dynamite\\n방탄소년단', '취기를 빌려 (취향저격 그녀 X 산들)\\n산들', '눈누난나 (NUNU NANA)\\n제시 (Jessi)', '마리아 (Maria)\\n화사 (Hwa Sa)', '다시 여기 바닷가\\n싹쓰리 (유두래곤, 린다G, 비룡)', 'When We Disco (Duet with 선미)\\n박진영', '오래된 노래\\n스탠딩 에그', 'How You Like That\\nBLACKPINK', '에잇(Prod.&Feat. SUGA of BTS)\\n아이유', '내 마음이 움찔했던 순간 (취향저격 그녀 X 규현)\\n규현 (KYUHYUN)', '아로하\\n조정석', 'Dolphin\\n오마이걸 (OH MY GIRL)', 'Downtown Baby\\n블루 (BLOO)', '어떻게 지내 (Prod. By VAN.C)\\n오반', '홀로\\n이하이', 'Summer Hate (Feat. 비)\\n지코 (ZICO)', 'Blueming\\n아이유', 'Dance Monkey\\nTones And I', '덤디덤디 (DUMDi DUMDi)\\n(여자)아이들', '흔들리는 꽃들 속에서 네 샴푸향이 느껴진거야\\n장범준', 'Memories\\nMaroon 5', '살짝 설렜어 (Nonstop)\\n오마이걸 (OH MY GIRL)', 'METEOR\\n창모 (CHANGMO)', 'Not Shy\\nITZY (있지)', '어떻게 이별까지 사랑하겠어, 널 사랑하는 거지\\nAKMU (악동뮤지션)', '작은 것들을 위한 시 (Boy With Luv) (Feat. Halsey)\\n방탄소년단', '사랑은 지날수록 더욱 선명하게 남아\\n전상근', '사랑하게 될 줄 알았어\\n전미도', '늦은 밤 너의 집 앞 골목길에서\\n노을', 'Ice Cream (with Selena Gomez)\\nBLACKPINK', '그 여름을 틀어줘\\n싹쓰리 (유두래곤, 린다G, 비룡)', '거짓말이라도 해서 널 보고싶어\\n백지영', '보라빛 밤 (pporappippam)\\n선미', '모든 날, 모든 순간 (Every day, Every Moment)\\n폴킴', \"Don't Start Now\\nDua Lipa\", '2002\\nAnne-Marie', '오늘도 빛나는 너에게 (To You My Light) (Feat.이라온)\\n마크툽 (MAKTUB)', '처음처럼\\n엠씨더맥스 (M.C the MAX)', '아무노래\\n지코 (ZICO)', '마음을 드려요\\n아이유', '봄날\\n방탄소년단', '우리 왜 헤어져야 해\\n신예영', '시작\\n가호 (Gaho)', 'ON\\n방탄소년단', 'Into the I-LAND\\n아이유', '안녕\\n폴킴', '신난다 (Feat. 마마무)\\n비룡', '여름 안에서 by 싹쓰리 (Feat. 황광희)\\n싹쓰리 (유두래곤, 린다G, 비룡)', 'Maniac\\nConan Gray', '좋은 사람 있으면 소개시켜줘\\n조이 (JOY)']\n"
     ]
    }
   ],
   "source": [
    "\n",
    " # chrome driver 설정\n",
    "driver = webdriver.Chrome(DRIVER_PATH)\n",
    "driver.implicitly_wait(10)\n",
    "\n",
    "url = \"https://www.melon.com/chart/index.htm\"\n",
    "\n",
    "driver.get(url)\n",
    "\n",
    "# 이 부분 코드는 뒤에서 쓰이지 않음\n",
    "html = driver.page_source\n",
    "soup = BeautifulSoup(html, 'html.parser')\n",
    "\n",
    "# 빈 리스트 변수\n",
    "title_list = []\n",
    "\n",
    "# title crawling (TOP 50)\n",
    "for i in range(1, 51):\n",
    "    title = WebDriverWait(driver, 20) \\\n",
    "        .until(EC.presence_of_element_located((By.XPATH, f\"//*[@id='frm']/div/table/tbody/tr[{i}]/td[4]/div/div\")))\n",
    "    title_list.append(title.text)\n",
    "    \n",
    "print(title_list)\n",
    "\n",
    "# 윈도우에서 브라우저 창이 누적되는 것을 방지하기 위하여 사용함\n",
    "driver.close()"
   ]
  },
  {
   "cell_type": "markdown",
   "metadata": {},
   "source": [
    "\n",
    "<p>나중에 필요한 변수(제목, 가수, 가사... 등)을 모두 긁어 한번에 <strong>데이터프레임</strong>으로 저장하여 보관한다!</p>\n"
   ]
  },
  {
   "cell_type": "markdown",
   "metadata": {},
   "source": [
    "\n",
    "<h3 id=\"1.3.-Text-Crawling-(Click-&amp;-Back)\">1.3. Text Crawling (Click &amp; Back)<a class=\"anchor-link\" href=\"#1.3.-Text-Crawling-(Click-&amp;-Back)\">¶</a></h3><p>클릭하고 나오기 -&gt; 동적 크롤링 가능 (<strong><code>가사</code></strong> 크롤링 가능)</p>\n",
    "<p>노래 제목에 링크가 걸려있기 때문에, 해당 링크까지의 <strong>XPath</strong>를 추가한다.</p>\n"
   ]
  },
  {
   "cell_type": "code",
   "execution_count": 8,
   "metadata": {},
   "outputs": [],
   "source": [
    "\n",
    " # chrome driver 설정\n",
    "driver = webdriver.Chrome(DRIVER_PATH)\n",
    "driver.implicitly_wait(10)\n",
    "\n",
    "url = \"https://www.melon.com/chart/index.htm\"\n",
    "\n",
    "driver.get(url)\n",
    "\n",
    "# 이 부분 코드는 뒤에서 쓰이지 않음\n",
    "html = driver.page_source\n",
    "soup = BeautifulSoup(html, 'html.parser')\n",
    "\n",
    "# 1번째 click하기\n",
    "click_element = WebDriverWait(driver, 20).until(EC.presence_of_element_located((By.XPATH, '//*[@id=\"frm\"]/div/table/tbody/tr[1]/td[3]/div/a')))\n",
    "click_element.click()    \n",
    "\n",
    "# back\n",
    "driver.back()\n",
    "\n",
    "\n",
    "# 2번째 click하기\n",
    "click_element = WebDriverWait(driver, 20).until(EC.presence_of_element_located((By.XPATH, '//*[@id=\"frm\"]/div/table/tbody/tr[2]/td[3]/div/a')))\n",
    "click_element.click()    \n",
    "\n",
    "# back\n",
    "driver.back()\n",
    "\n",
    "# 윈도우에서 브라우저 창이 누적되는 것을 방지하기 위하여 사용함\n",
    "driver.close()"
   ]
  },
  {
   "cell_type": "markdown",
   "metadata": {},
   "source": [
    "\n",
    "<h3 id=\"1.4.-Text-Crawling-including-contents\">1.4. Text Crawling including contents<a class=\"anchor-link\" href=\"#1.4.-Text-Crawling-including-contents\">¶</a></h3><ul>\n",
    "<li><p><strong>1.2</strong>처럼 for문과 함께 써보자! (첫 페이지 5개의 글에 대해 <code>title</code>, <code>artist</code>, <code>heart</code>(하트 갯수), <code>lyrics</code>(가사)를 크롤링</p>\n",
    "</li>\n",
    "<li><p><strong>1.3</strong>에서 사용한 click &amp; back을 활용하자</p>\n",
    "</li>\n",
    "</ul>\n"
   ]
  },
  {
   "cell_type": "code",
   "execution_count": 11,
   "metadata": {},
   "outputs": [
    {
     "name": "stdout",
     "output_type": "stream",
     "text": [
      "['Dynamite', '취기를 빌려 (취향저격 그녀 X 산들)', '눈누난나 (NUNU NANA)', '마리아 (Maria)', '다시 여기 바닷가']\n",
      "['방탄소년단', '산들', '제시 (Jessi)', '화사 (Hwa Sa)', '싹쓰리 (유두래곤, 린다G, 비룡)']\n",
      "['278,688', '103,391', '76,553', '140,069', '222,456']\n",
      "[\"Cos ah ah\\nI’m in the stars tonight\\nSo watch me bring the fire\\nand set the night alight\\nShoes on get up in the morn\\nCup of milk let’s rock and roll\\nKing Kong kick the drum\\nrolling on like a rolling stone\\nSing song when I’m walking home\\nJump up to the top LeBron\\nDing dong call me on my phone\\nIce tea and a game of ping pong\\nThis is getting heavy\\nCan you hear the bass boom\\nI’m ready\\nLife is sweet as honey\\nYeah this beat cha ching\\nlike money\\nDisco overload I’m into\\nthat I’m good to go\\nI'm diamond you know I glow up\\nHey so let’s go\\nCos ah ah\\nI’m in the stars tonight\\nSo watch me bring the fire\\nand set the night alight\\nShining through the city\\nwith a little funk and soul\\nSo I’mma light it up\\nlike dynamite woah\\nBring a friend join the crowd\\nWhoever wanna come along\\nWord up talk the talk\\njust move like we off the wall\\nDay or night the sky’s alight\\nSo we dance to the break of dawn\\nLadies and gentlemen\\nI got the medicine\\nso you should keep ya\\neyes on the ball huh\\nThis is getting heavy\\nCan you hear the bass boom\\nI’m ready\\nLife is sweet as honey\\nYeah this beat cha ching\\nlike money\\nDisco overload\\nI’m into that I’m good to go\\nI'm diamond you know I glow up\\nLet’s go\\nCos ah ah\\nI’m in the stars tonight\\nSo watch me bring the fire\\nand set the night alight\\nShining through the city\\nwith a little funk and soul\\nSo I’mma light it up\\nlike dynamite woah\\nDynnnnnanana life is dynamite\\nDynnnnnanana life is dynamite\\nShining through the city\\nwith a little funk and soul\\nSo I’mma light it up\\nlike dynamite woah\\nDynnnnnanana eh\\nDynnnnnanana eh\\nDynnnnnanana eh\\nLight it up like dynamite\\nDynnnnnanana eh\\nDynnnnnanana eh\\nDynnnnnanana eh\\nLight it up like dynamite\\nCos ah ah\\nI’m in the stars tonight\\nSo watch me bring the fire\\nand set the night alight\\nShining through the city\\nwith a little funk and soul\\nSo I’mma light it up\\nlike dynamite\\nCos ah ah\\nI’m in the stars tonight\\nSo watch me bring the fire\\nand set the night alight\\nShining through the city\\nwith a little funk and soul\\nSo I’mma light it up\\nlike dynamite woah\\nDynnnnnanana life is dynamite\\nDynnnnnanana life is dynamite\\nShining through the city\\nwith a little funk and soul\\nSo I’mma light it up\\nlike dynamite woah\", '언제부턴가 불쑥\\n내 습관이 돼버린 너\\n혹시나 이런 맘이\\n어쩌면 부담일까\\n널 주저했어\\n언제부턴가 점점\\n내 하루에 스며든 너\\n아침을 깨우는 네 생각에\\n어느샌가 거리엔\\n어둠이 젖어 들고\\n취기를 빌려\\n오늘 너에게 고백할 거야\\n하루하루 네가 좋다고\\n괜히 어색할까\\n혼자 애만 태우다\\n끝끝내 망설여왔던 순간\\n알잖아 나 무뚝뚝하고\\n말도 없는 걸\\n서툰 표현이 쑥스러워서 괜히\\n쓰다 지울 문자만 바라보다\\n멋쩍은 쓴웃음만\\n언제부턴가 가끔\\n너와 마주칠 때마다\\n한참을 머뭇거린\\n어설픈 손 인사만\\n오늘 밤도 후회로 잦아들고\\n취기를 빌려\\n오늘 너에게 고백할 거야\\n하루하루 보고 싶다고\\n괜히 어색할까 혼자 애만 태우다\\n수없이 연습해왔던 그 말\\n알잖아 나 무뚝뚝하고\\n말도 없는 걸\\n서툰 표현이 쑥스러워서 괜히\\n쓰다 지울 문자만 바라보다\\n멋쩍은 쓴웃음만\\n첫눈을 빌려\\n오늘은 꼭 고백할 거야\\n작은 너를 품에 안고서\\n눈을 마주하고\\n너무 사랑한다고\\n함께 하고 싶다고', 'I’m trying to give u\\nsomething more\\nSo come with me and fly away\\naway away away away\\n그래서 난 눈누난나\\n눈누누난나\\nPut’ em up in the air\\n누나 누나\\nLike this oh 나나나\\n누나 누나\\n에에에에이\\n나를 지금 원해\\nGimme more Gimme more\\nGimme more Gimme more\\nBaby baby yeah I want it\\n이리로 이리로 이리로 이리 온\\n유난 떨지 마 그만\\n원한다면 솔직해져 봐 too much\\n우 baby 와서 가져가\\nI could give u everything anything\\nBaby can u handle it\\n뭐라 하던 still don’t give a what\\n맘대로 계속 떠들어\\nthey talk about me\\n뭐라노 뭐라카노 F U\\n그래서 난 눈누난나\\n눈누누난나\\nPut’ em up in the air\\n누나 누나\\nLike this oh 나나나\\n누나 누나\\n에에에에이\\nI’m still Jessi from the block\\nU know I got the keys to the lock\\n안 봐 남의 눈치 I just do me\\n날 보기 위해 들어 뒤꿈치\\nWake up bless looking fresh\\n어딜 가든 flex got the S\\non my chest\\n싸이 오빠 말했지 꼴리는 대로 해\\nno red lights 올림픽대로 aye\\n뭐라 하던 still don’t give a what\\n맘대로 계속 떠들어\\nthey talk about me\\n뭐라노 뭐라카노 F U\\n그래서 난 눈누난나\\n눈누누난나\\nPut’ em up in the air\\n누나 누나\\nLike this oh 나나나\\n누나 누나\\n에에에에이\\nI’m trying to give u\\nsomething more\\nSo come with me and fly away\\naway away away away\\n그래서 난 눈누난나\\n눈누누난나\\nPut’ em up in the air\\n누나 누나\\nLike this oh 나나나\\n누나 누나\\n에에에에이', '욕을 하도 먹어 체했어 하도\\n서러워도 어쩌겠어 I do\\n모두들 미워하느라 애썼네\\n날 무너뜨리면\\n밥이 되나\\n\\n외로워서 어떡해\\n미움마저 삼켰어\\n화낼 힘도 없어\\n여유도 없고\\n뭐 그리 아니꼬와\\n가던 길 그냥 가\\n왜들 그래 서럽게\\n\\n마리아 마리아\\n널 위한 말이야\\n빛나는 밤이야\\n널 괴롭히지마\\n오 마리아 널 위한 말이야\\n뭐 하러 아등바등해\\n이미 아름다운데\\n\\n(yeah) Oh na ah ah\\n(yeah) 널 위한 말이야\\n(yeah) Oh na ah ah\\n(yeah) 아름다워 마리아\\n\\nNo frame no fake\\n지끈 지끈거려\\n하늘은 하늘색 사는 게 다 뻔해\\n내가 갈 길은 내가 바꾸지 뭐\\n위기는 기회로 다 바꾸지 뭐\\n굳이 우는 꼴이 보고 싶다면\\n옜다 눈물\\n\\n외로워서 어떡해\\n미움마저 삼켰어\\n화낼 힘도 없어\\n이유도 없고\\n마음을 더럽히지마\\n타락하기엔 아직 일러\\n\\n마리아 마리아\\n널 위한 말이야\\n빛나는 밤이야\\n널 괴롭히지마\\n오 마리아 널 위한 말이야\\n뭐 하러 아등바등해\\n이미 아름다운데\\n\\n(yeah) Oh na ah ah\\n(yeah) 널 위한 말이야\\n(yeah) Oh na ah ah\\n(yeah) 아름다워 마리아\\n\\n마리아 마리아\\n널 위한 말이야\\n빛나는 밤이야\\n널 괴롭히지마\\n오 마리아 널 위한 말이야\\n뭐 하러 아등바등해\\n이미 아름다운데\\n\\n(yeah) Oh na ah ah\\n(yeah) 널 위한 말이야\\n(yeah) 널 위한 말이야\\n(yeah) 아름다워 마리아', '예아 호우 예예예\\n싹쓰리 인더 하우스\\n커커커커커몬 싹 쓰리 투 렛츠고\\n나 다시 또 설레어\\n이렇게 너를 만나서\\n함께 하고 있는 지금 이 공기가\\n다시는 널 볼 순 없을 거라고\\n추억일 뿐이라\\n서랍 속에 꼭 넣어뒀는데\\n흐르는 시간 속에서\\n너와 내 기억은\\n점점 희미해져만 가\\n끝난 줄 알았어\\n지난여름 바닷가\\n너와 나 단둘이\\n파도에 취해서 노래하며\\n같은 꿈을 꾸었지\\n다시 여기 바닷가\\n이제는 말하고 싶어\\n네가 있었기에 내가 더욱 빛나\\n별이 되었다고\\n다들 덥다고 막 짜증내\\n괜찮아 우리 둘은 따뜻해\\n내게 퐁당 빠져버린 널\\n이젠 구하러 가지 않을 거야\\n모래 위 펴펴펴편지를 써\\n밀물이 밀려와도 못 지워\\n추억이 될 뻔한 첫 느낌\\n너랑 다시 한번 받아 보고 싶어\\n흐르는 시간 속에서\\n너와 내 기억은\\n점점 희미해져만 가\\n끝난 줄 알았어\\n지난여름 바닷가\\n너와 나 단둘이\\n파도에 취해서 노래하며\\n같은 꿈을 꾸었지\\n다시 여기 바닷가\\n이제는 말하고 싶어\\n네가 있었기에 내가 더욱 빛나\\n별이 되었다고\\n시간의 강을 건너\\n또 맞닿은 너와 나\\n소중한 사랑을 영원히\\n간직해줘\\n지난여름 바닷가\\n너와 나 단둘이\\n파도에 취해서 노래하며\\n같은 꿈을 꾸었지\\n다시 여기 바닷가\\n이제는 말하고 싶어\\n네가 있었기에 내가 더욱 빛나\\n별이 되었다고']\n"
     ]
    }
   ],
   "source": [
    "\n",
    " # chrome driver 설정\n",
    "driver = webdriver.Chrome(DRIVER_PATH)\n",
    "driver.implicitly_wait(10)\n",
    "\n",
    "url = \"https://www.melon.com/chart/index.htm\"\n",
    "driver.get(url)\n",
    "\n",
    "# 이 부분 코드는 뒤에서 쓰이지 않음\n",
    "html = driver.page_source\n",
    "soup = BeautifulSoup(html, 'html.parser')\n",
    "\n",
    "# 빈 리스트 변수\n",
    "title_list = []\n",
    "artist_list = []\n",
    "heart_list = []\n",
    "lyrics_list = []\n",
    "\n",
    "# crawling (TOP 5)\n",
    "for i in range(1, 6):\n",
    "    # click\n",
    "    click_element = WebDriverWait(driver, 20) \\\n",
    "        .until(EC.presence_of_element_located((By.XPATH, f'//*[@id=\"frm\"]/div/table/tbody/tr[{i}]/td[3]/div/a')))\n",
    "    click_element.click()\n",
    "\n",
    "    # title crawling\n",
    "    title = WebDriverWait(driver, 20).until(\n",
    "        EC.presence_of_element_located((By.CSS_SELECTOR, \"#downloadfrm > div > div > div.entry > div.info > div.song_name\")))\n",
    "    title_list.append(title.text)\n",
    "\n",
    "    # artist crawling\n",
    "    artist = WebDriverWait(driver, 20).until(\n",
    "        EC.presence_of_element_located((By.CSS_SELECTOR, \"#downloadfrm > div > div > div.entry > div.info > div.artist > a > span:nth-child(1)\")))\n",
    "    artist_list.append(artist.text)\n",
    "    \n",
    "    # heart crawling\n",
    "    heart = WebDriverWait(driver, 20).until(\n",
    "        EC.presence_of_element_located((By.CSS_SELECTOR, \"#d_like_count\")))\n",
    "    heart_list.append(heart.text)\n",
    "\n",
    "    # lyrics crawling\n",
    "    lyrics = WebDriverWait(driver, 20).until(\n",
    "        EC.presence_of_element_located((By.CSS_SELECTOR, \"#d_video_summary\")))\n",
    "    lyrics_list.append(lyrics.text)\n",
    "    \n",
    "    # back\n",
    "    driver.back()\n",
    "    \n",
    "print(title_list)\n",
    "print(artist_list)\n",
    "print(heart_list)\n",
    "print(lyrics_list)\n",
    "\n",
    "# 윈도우에서 브라우저 창이 누적되는 것을 방지하기 위하여 사용함\n",
    "driver.close()"
   ]
  },
  {
   "cell_type": "markdown",
   "metadata": {},
   "source": [
    "\n",
    "<h3 id=\"TIP:-보통은-결과값을-데이터프레임-형태로-저장한다\">TIP: 보통은 결과값을 <code>데이터프레임</code> 형태로 저장한다<a class=\"anchor-link\" href=\"#TIP:-보통은-결과값을-데이터프레임-형태로-저장한다\">¶</a></h3>\n"
   ]
  },
  {
   "cell_type": "code",
   "execution_count": 12,
   "metadata": {},
   "outputs": [],
   "source": [
    "\n",
    "# 결과 변수\n",
    "raw_result = {'title': title_list,\n",
    "              'artist': artist_list,\n",
    "              'heart': heart_list,\n",
    "          'lyrics': lyrics_list}\n",
    "\n",
    "result = pd.DataFrame(raw_result)\n",
    "\n",
    "# # csv 파일로 save\n",
    "# result.to_csv(\"MelonTop5\", mode='w')\n",
    "\n",
    "# driver 종료\n",
    "\n",
    "driver.quit()"
   ]
  },
  {
   "cell_type": "code",
   "execution_count": 13,
   "metadata": {},
   "outputs": [
    {
     "data": {
      "text/html": [
       "<div>\n",
       "<style scoped>\n",
       "    .dataframe tbody tr th:only-of-type {\n",
       "        vertical-align: middle;\n",
       "    }\n",
       "\n",
       "    .dataframe tbody tr th {\n",
       "        vertical-align: top;\n",
       "    }\n",
       "\n",
       "    .dataframe thead th {\n",
       "        text-align: right;\n",
       "    }\n",
       "</style>\n",
       "<table border=\"1\" class=\"dataframe\">\n",
       "  <thead>\n",
       "    <tr style=\"text-align: right;\">\n",
       "      <th></th>\n",
       "      <th>title</th>\n",
       "      <th>artist</th>\n",
       "      <th>heart</th>\n",
       "      <th>lyrics</th>\n",
       "    </tr>\n",
       "  </thead>\n",
       "  <tbody>\n",
       "    <tr>\n",
       "      <th>0</th>\n",
       "      <td>Dynamite</td>\n",
       "      <td>방탄소년단</td>\n",
       "      <td>278,688</td>\n",
       "      <td>Cos ah ah\\nI’m in the stars tonight\\nSo watch ...</td>\n",
       "    </tr>\n",
       "    <tr>\n",
       "      <th>1</th>\n",
       "      <td>취기를 빌려 (취향저격 그녀 X 산들)</td>\n",
       "      <td>산들</td>\n",
       "      <td>103,391</td>\n",
       "      <td>언제부턴가 불쑥\\n내 습관이 돼버린 너\\n혹시나 이런 맘이\\n어쩌면 부담일까\\n널 ...</td>\n",
       "    </tr>\n",
       "    <tr>\n",
       "      <th>2</th>\n",
       "      <td>눈누난나 (NUNU NANA)</td>\n",
       "      <td>제시 (Jessi)</td>\n",
       "      <td>76,553</td>\n",
       "      <td>I’m trying to give u\\nsomething more\\nSo come ...</td>\n",
       "    </tr>\n",
       "    <tr>\n",
       "      <th>3</th>\n",
       "      <td>마리아 (Maria)</td>\n",
       "      <td>화사 (Hwa Sa)</td>\n",
       "      <td>140,069</td>\n",
       "      <td>욕을 하도 먹어 체했어 하도\\n서러워도 어쩌겠어 I do\\n모두들 미워하느라 애썼네...</td>\n",
       "    </tr>\n",
       "    <tr>\n",
       "      <th>4</th>\n",
       "      <td>다시 여기 바닷가</td>\n",
       "      <td>싹쓰리 (유두래곤, 린다G, 비룡)</td>\n",
       "      <td>222,456</td>\n",
       "      <td>예아 호우 예예예\\n싹쓰리 인더 하우스\\n커커커커커몬 싹 쓰리 투 렛츠고\\n나 다시...</td>\n",
       "    </tr>\n",
       "  </tbody>\n",
       "</table>\n",
       "</div>"
      ],
      "text/plain": [
       "                   title               artist    heart  \\\n",
       "0               Dynamite                방탄소년단  278,688   \n",
       "1  취기를 빌려 (취향저격 그녀 X 산들)                   산들  103,391   \n",
       "2       눈누난나 (NUNU NANA)           제시 (Jessi)   76,553   \n",
       "3            마리아 (Maria)          화사 (Hwa Sa)  140,069   \n",
       "4              다시 여기 바닷가  싹쓰리 (유두래곤, 린다G, 비룡)  222,456   \n",
       "\n",
       "                                              lyrics  \n",
       "0  Cos ah ah\\nI’m in the stars tonight\\nSo watch ...  \n",
       "1  언제부턴가 불쑥\\n내 습관이 돼버린 너\\n혹시나 이런 맘이\\n어쩌면 부담일까\\n널 ...  \n",
       "2  I’m trying to give u\\nsomething more\\nSo come ...  \n",
       "3  욕을 하도 먹어 체했어 하도\\n서러워도 어쩌겠어 I do\\n모두들 미워하느라 애썼네...  \n",
       "4  예아 호우 예예예\\n싹쓰리 인더 하우스\\n커커커커커몬 싹 쓰리 투 렛츠고\\n나 다시...  "
      ]
     },
     "execution_count": 13,
     "metadata": {},
     "output_type": "execute_result"
    }
   ],
   "source": [
    "\n",
    "result\n",
    "\n"
   ]
  },
  {
   "cell_type": "markdown",
   "metadata": {},
   "source": [
    "\n",
    "<p><strong><code>데이터프레임</code></strong> 형식을 이용하면, 가독성도 좋고, 나중에 데이터 핸들링하기에도 편리하다!</p>\n"
   ]
  },
  {
   "cell_type": "markdown",
   "metadata": {},
   "source": [
    "\n",
    "<h1 id=\"2.-Image-Crawling\">2. Image Crawling<a class=\"anchor-link\" href=\"#2.-Image-Crawling\">¶</a></h1><p>이미지 크롤링하기</p>\n",
    "<ul>\n",
    "<li>1번째 이미지: /html/body/div/div[3]/div/div/div[4]/form/div/table/tbody/tr[<strong>1</strong>]/td[4]/div/a/img</li>\n",
    "<li>2번째 이미지: /html/body/div/div[3]/div/div/div[4]/form/div/table/tbody/tr[<strong>2</strong>]/td[4]/div/a/img</li>\n",
    "</ul>\n",
    "<p>...</p>\n",
    "<ul>\n",
    "<li>50번째 이미지: /html/body/div/div[3]/div/div/div[4]/form/div/table/tbody/tr[<strong>50</strong>]/td[4]/div/a/img</li>\n",
    "</ul>\n"
   ]
  },
  {
   "cell_type": "markdown",
   "metadata": {},
   "source": [
    "\n",
    "<h4 id=\"STEP1.-URL-Crawling\">STEP1. URL Crawling<a class=\"anchor-link\" href=\"#STEP1.-URL-Crawling\">¶</a></h4>\n"
   ]
  },
  {
   "cell_type": "code",
   "execution_count": 14,
   "metadata": {},
   "outputs": [
    {
     "name": "stdout",
     "output_type": "stream",
     "text": [
      "['https://cdnimg.melon.co.kr/cm2/album/images/104/79/150/10479150_20200918102847_500.jpg/melon/resize/120/quality/80/optimize', 'https://cdnimg.melon.co.kr/cm2/album/images/104/63/600/10463600_20200720152905_500.jpg/melon/resize/120/quality/80/optimize', 'https://cdnimg.melon.co.kr/cm2/album/images/104/69/416/10469416_20200730151034_500.jpg/melon/resize/120/quality/80/optimize', 'https://cdnimg.melon.co.kr/cm2/album/images/104/52/351/10452351_20200629152036_500.jpg/melon/resize/120/quality/80/optimize', 'https://cdnimg.melon.co.kr/cm2/album/images/104/62/799/10462799_20200717150822_500.jpg/melon/resize/120/quality/80/optimize', 'https://cdnimg.melon.co.kr/cm2/album/images/104/75/061/10475061_20200812120927_500.jpg/melon/resize/120/quality/80/optimize', 'https://cdnimg.melon.co.kr/cm/album/images/021/48/596/2148596_500.jpg/melon/resize/120/quality/80/optimize', 'https://cdnimg.melon.co.kr/cm2/album/images/104/51/566/10451566_20200626114914_500.jpg/melon/resize/120/quality/80/optimize', 'https://cdnimg.melon.co.kr/cm2/album/images/104/26/648/10426648_20200506153340_500.jpg/melon/resize/120/quality/80/optimize', 'https://cdnimg.melon.co.kr/cm2/album/images/104/78/925/10478925_20200820171048_500.jpg/melon/resize/120/quality/80/optimize', 'https://cdnimg.melon.co.kr/cm2/album/images/104/09/054/10409054_20200326163459_500.jpg/melon/resize/120/quality/80/optimize', 'https://cdnimg.melon.co.kr/cm2/album/images/104/23/289/10423289_20200427153909_500.jpg/melon/resize/120/quality/80/optimize', 'https://cdnimg.melon.co.kr/cm/album/images/101/17/789/10117789_500.jpg/melon/resize/120/quality/80/optimize', 'https://cdnimg.melon.co.kr/cm2/album/images/103/99/190/10399190_20200305151138_500.jpg/melon/resize/120/quality/80/optimize', 'https://cdnimg.melon.co.kr/cm2/album/images/104/65/994/10465994_20200723160043_500.jpg/melon/resize/120/quality/80/optimize', 'https://cdnimg.melon.co.kr/cm2/album/images/104/53/701/10453701_20200701151802_500.jpg/melon/resize/120/quality/80/optimize', 'https://cdnimg.melon.co.kr/cm2/album/images/103/46/650/10346650_500.jpg/melon/resize/120/quality/80/optimize', 'https://cdnimg.melon.co.kr/cm2/album/images/103/16/394/10316394_500.jpg/melon/resize/120/quality/80/optimize', 'https://cdnimg.melon.co.kr/cm2/album/images/104/70/992/10470992_20200803154248_500.jpg/melon/resize/120/quality/80/optimize', 'https://cdnimg.melon.co.kr/cm2/album/images/103/20/500/10320500_500.jpg/melon/resize/120/quality/80/optimize', 'https://cdnimg.melon.co.kr/cm2/album/images/103/30/593/10330593_500.jpg/melon/resize/120/quality/80/optimize', 'https://cdnimg.melon.co.kr/cm2/album/images/104/23/289/10423289_20200427153909_500.jpg/melon/resize/120/quality/80/optimize', 'https://cdnimg.melon.co.kr/cm2/album/images/103/59/162/10359162_500.jpg/melon/resize/120/quality/80/optimize', 'https://cdnimg.melon.co.kr/cm2/album/images/104/76/630/10476630_20200818114209_500.jpg/melon/resize/120/quality/80/optimize', 'https://cdnimg.melon.co.kr/cm2/album/images/103/31/947/10331947_500.jpg/melon/resize/120/quality/80/optimize', 'https://cdnimg.melon.co.kr/cm/album/images/102/73/641/10273641_500.jpg/melon/resize/120/quality/80/optimize', 'https://cdnimg.melon.co.kr/cm2/album/images/104/40/381/10440381_20200605161232_500.jpg/melon/resize/120/quality/80/optimize', 'https://cdnimg.melon.co.kr/cm2/album/images/104/33/754/10433754_20200521162928_500.jpg/melon/resize/120/quality/80/optimize', 'https://cdnimg.melon.co.kr/cm2/album/images/103/48/811/10348811_500.jpg/melon/resize/120/quality/80/optimize', 'https://cdnimg.melon.co.kr/cm2/album/images/104/82/568/10482568_20200828104231_500.jpg/melon/resize/120/quality/80/optimize', 'https://cdnimg.melon.co.kr/cm2/album/images/104/67/129/10467129_20200724181802_500.jpg/melon/resize/120/quality/80/optimize', 'https://cdnimg.melon.co.kr/cm2/album/images/104/60/544/10460544_20200714151651_500.jpg/melon/resize/120/quality/80/optimize', 'https://cdnimg.melon.co.kr/cm2/album/images/104/52/354/10452354_20200629152048_500.jpg/melon/resize/120/quality/80/optimize', 'https://cdnimg.melon.co.kr/cm/album/images/101/49/492/10149492_500.jpg/melon/resize/120/quality/80/optimize', 'https://cdnimg.melon.co.kr/cm2/album/images/103/45/880/10345880_20200326181909_500.jpg/melon/resize/120/quality/80/optimize', 'https://cdnimg.melon.co.kr/cm/album/images/101/37/250/10137250_500.jpg/melon/resize/120/quality/80/optimize', 'https://cdnimg.melon.co.kr/cm/album/images/102/94/603/10294603_500.jpg/melon/resize/120/quality/80/optimize', 'https://cdnimg.melon.co.kr/cm2/album/images/104/08/131/10408131_20200325151939_500.jpg/melon/resize/120/quality/80/optimize', 'https://cdnimg.melon.co.kr/cm2/album/images/103/75/118/10375118_20200113150502_500.jpg/melon/resize/120/quality/80/optimize', 'https://cdnimg.melon.co.kr/cm2/album/images/103/88/744/10388744_20200214175740_500.jpg/melon/resize/120/quality/80/optimize', 'https://cdnimg.melon.co.kr/cm/album/images/100/37/969/10037969_500.jpg/melon/resize/120/quality/80/optimize', 'https://cdnimg.melon.co.kr/cm2/album/images/103/53/881/10353881_500.jpg/melon/resize/120/quality/80/optimize', 'https://cdnimg.melon.co.kr/cm2/album/images/103/81/712/10381712_20200131110358_500.jpg/melon/resize/120/quality/80/optimize', 'https://cdnimg.melon.co.kr/cm2/album/images/103/77/346/10377346_20200221153622_500.jpg/melon/resize/120/quality/80/optimize', 'https://cdnimg.melon.co.kr/cm2/album/images/104/47/670/10447670_20200619160619_500.jpg/melon/resize/120/quality/80/optimize', 'https://cdnimg.melon.co.kr/cm2/album/images/103/17/137/10317137_500.jpg/melon/resize/120/quality/80/optimize', 'https://cdnimg.melon.co.kr/cm2/album/images/104/70/448/10470448_20200731163952_500.jpg/melon/resize/120/quality/80/optimize', 'https://cdnimg.melon.co.kr/cm2/album/images/104/59/197/10459197_20200720141408_500.jpg/melon/resize/120/quality/80/optimize', 'https://cdnimg.melon.co.kr/cm2/album/images/103/43/276/10343276_500.jpg/melon/resize/120/quality/80/optimize', 'https://cdnimg.melon.co.kr/cm2/album/images/104/05/712/10405712_20200320102711_500.jpg/melon/resize/120/quality/80/optimize']\n"
     ]
    }
   ],
   "source": [
    "\n",
    " # chrome driver 설정\n",
    "driver = webdriver.Chrome(DRIVER_PATH)\n",
    "driver.implicitly_wait(10)\n",
    "\n",
    "url = \"https://www.melon.com/chart/index.htm\"\n",
    "\n",
    "driver.get(url)\n",
    "\n",
    "# 이 부분 코드는 뒤에서 쓰이지 않음\n",
    "html = driver.page_source\n",
    "soup = BeautifulSoup(html, 'html.parser')\n",
    "\n",
    "# 빈 리스트 변수\n",
    "link_list = []\n",
    "\n",
    "# # img crawling (TOP 50)\n",
    "for i in range(1, 51):\n",
    "    \n",
    "    img = WebDriverWait(driver, 20) \\\n",
    "        .until(EC.presence_of_element_located((By.CSS_SELECTOR, f\"#frm > div > table > tbody > tr:nth-child({i}) > td:nth-child(2) > div > a > img\")))\n",
    "\n",
    "    link_list.append(img.get_attribute('src'))\n",
    "\n",
    "print(link_list)\n",
    "\n",
    "# 윈도우에서 브라우저 창이 누적되는 것을 방지하기 위하여 사용함\n",
    "driver.close()"
   ]
  },
  {
   "cell_type": "markdown",
   "metadata": {},
   "source": [
    "\n",
    "<h4 id=\"STEP2.-Download-images-using-URLs\">STEP2. Download images using URLs<a class=\"anchor-link\" href=\"#STEP2.-Download-images-using-URLs\">¶</a></h4><p>자신의 디렉토리에 <code>img</code> 폴더 생성하고 실행</p>\n"
   ]
  },
  {
   "cell_type": "code",
   "execution_count": 16,
   "metadata": {},
   "outputs": [],
   "source": [
    "\n",
    "import urllib.request\n",
    "\n",
    "count = 0\n",
    "for link in link_list:\n",
    "    count += 1\n",
    "    urllib.request.urlretrieve(link, './img/img' + str(count) + '.jpg')\n",
    "\n"
   ]
  },
  {
   "cell_type": "markdown",
   "metadata": {},
   "source": [
    "# 추가 크롤링 (네이버 급상승검색어 스크래핑)"
   ]
  },
  {
   "cell_type": "markdown",
   "metadata": {},
   "source": [
    "## 1. 페이지 접속"
   ]
  },
  {
   "cell_type": "code",
   "execution_count": 57,
   "metadata": {},
   "outputs": [],
   "source": [
    "driver = webdriver.Chrome(DRIVER_PATH) \n",
    "driver.implicitly_wait(2)\n",
    "\n",
    "url = \"https://www.naver.com/\"\n",
    "\n",
    "# 해당 url로 접속함\n",
    "driver.get(url)"
   ]
  },
  {
   "cell_type": "markdown",
   "metadata": {},
   "source": [
    "## 2. 검색어 설정"
   ]
  },
  {
   "cell_type": "code",
   "execution_count": 58,
   "metadata": {},
   "outputs": [],
   "source": [
    "# 분야별 설정\n",
    "for i in range(1, 6):\n",
    "    radio_bt = WebDriverWait(driver, 2) \\\n",
    "      .until(EC.presence_of_element_located((By.XPATH, f'//*[@id=\"NM_RTK_VIEW_filter_wrap\"]/li[{str(i)}]/div/a[1]')))\n",
    "\n",
    "    # 페이지에서 해당 엘리먼트가 브라우저 창에 직접 보여지지 않은 상태에서도 클릭하기 위하여 자바스크립트를 이용함\n",
    "    driver.execute_script(\"arguments[0].click();\", radio_bt)\n",
    "    \n",
    "# 전체연령 설정\n",
    "all_age_bt = WebDriverWait(driver, 2) \\\n",
    "      .until(EC.presence_of_element_located((By.XPATH, '//*[@id=\"NM_RKT_VIEW_filter_age_wrap\"]/li[6]/a')))\n",
    "driver.execute_script(\"arguments[0].click();\", all_age_bt)\n",
    "\n",
    "# 설정 완료\n",
    "completion_bt = WebDriverWait(driver, 2) \\\n",
    "      .until(EC.presence_of_element_located((By.XPATH, '//*[@id=\"NM_RTK_VIEW_set_btn\"]')))\n",
    "driver.execute_script(\"arguments[0].click();\", completion_bt)"
   ]
  },
  {
   "cell_type": "markdown",
   "metadata": {},
   "source": [
    "## 3. 스크래핑"
   ]
  },
  {
   "cell_type": "code",
   "execution_count": 59,
   "metadata": {},
   "outputs": [
    {
     "name": "stdout",
     "output_type": "stream",
     "text": [
      "벨라루스\n",
      "본 레거시\n",
      "산호비녀\n",
      "지상\n",
      "쇼미더머니8\n",
      "쇼미더머니9\n",
      "맨유 브라이튼\n",
      "이진이\n",
      "로또 930회\n",
      "유지상\n"
     ]
    }
   ],
   "source": [
    "# 더 보기\n",
    "more_see = WebDriverWait(driver, 2) \\\n",
    "      .until(EC.presence_of_element_located((By.XPATH, '//*[@id=\"NM_RTK_ROLLING_WRAP\"]')))\n",
    "more_see.click()\n",
    "\n",
    "# 급상승검색어 스크래핑\n",
    "real_time_keywords = WebDriverWait(driver, 5) \\\n",
    "  .until(EC.presence_of_all_elements_located((By.CSS_SELECTOR, \".list_realtime span.keyword\")))\n",
    "\n",
    "real_time_keywords = [real_time_keyword.text for real_time_keyword in real_time_keywords if real_time_keyword.text]\n",
    "\n",
    "for real_time_keyword in real_time_keywords:\n",
    "    print(real_time_keyword)\n",
    "    \n",
    "driver.quit()"
   ]
  }
 ],
 "metadata": {
  "kernelspec": {
   "display_name": "Python 3",
   "language": "python",
   "name": "python3"
  },
  "language_info": {
   "codemirror_mode": {
    "name": "ipython",
    "version": 3
   },
   "file_extension": ".py",
   "mimetype": "text/x-python",
   "name": "python",
   "nbconvert_exporter": "python",
   "pygments_lexer": "ipython3",
   "version": "3.7.3"
  }
 },
 "nbformat": 4,
 "nbformat_minor": 1
}
