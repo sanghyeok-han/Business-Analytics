{
 "cells": [
  {
   "cell_type": "code",
   "execution_count": 12,
   "metadata": {},
   "outputs": [],
   "source": [
    "import re"
   ]
  },
  {
   "cell_type": "markdown",
   "metadata": {},
   "source": [
    "### 예제파일 가져오기\n",
    "koNLPy corpus에서 대한민국헌법 텍스트 파일을 로드"
   ]
  },
  {
   "cell_type": "code",
   "execution_count": 10,
   "metadata": {},
   "outputs": [],
   "source": [
    "with open(\"애국가.txt\", \"r\") as file:\n",
    "    text = file.read()"
   ]
  },
  {
   "cell_type": "code",
   "execution_count": 46,
   "metadata": {},
   "outputs": [],
   "source": [
    "# \\n을 \" \"로 변환시켜줌\n",
    "c = re.sub(\"\\n\", \"\", text)"
   ]
  },
  {
   "cell_type": "code",
   "execution_count": 16,
   "metadata": {
    "scrolled": true
   },
   "outputs": [
    {
     "name": "stdout",
     "output_type": "stream",
     "text": [
      "<class 'str'>\n",
      "254\n"
     ]
    }
   ],
   "source": [
    "print(type(c)) #가져온 데이터의 type을 확인\n",
    "print(len(c))"
   ]
  },
  {
   "cell_type": "code",
   "execution_count": 18,
   "metadata": {},
   "outputs": [
    {
     "data": {
      "text/plain": [
       "47"
      ]
     },
     "execution_count": 18,
     "metadata": {},
     "output_type": "execute_result"
    }
   ],
   "source": [
    "#word로 tokenize\n",
    "from nltk.tokenize import word_tokenize\n",
    "c_words = word_tokenize(c)\n",
    "len(c_words)"
   ]
  },
  {
   "cell_type": "code",
   "execution_count": 19,
   "metadata": {},
   "outputs": [
    {
     "data": {
      "text/plain": [
       "'동해물과 백두산이 마르고 닳도록하느님이 보우하사 우리나라만세무궁화 삼천리 화려강산 대한사람 대한으로 길이 보전하세남산위에 저 소나무 철갑을 두른듯바람서리 불변함은 우리기상 일세무궁화 삼천리 화려강산 대한사람 대한으로 길이보전하세가을하늘 공활한데 높고 구름없이 밝은달은 우리가슴 일편단심일세무궁화 삼천리 화려강산 대한사람 대한으로 길이보전하세이 기상과 이 맘으로 충성을 다하여괴로우나 즐거우나 나라사랑하세무궁화 삼천리 화려강산 대한사람 대한으로 길이보전하세'"
      ]
     },
     "execution_count": 19,
     "metadata": {},
     "output_type": "execute_result"
    }
   ],
   "source": [
    "\" \".join(c_words)"
   ]
  },
  {
   "cell_type": "code",
   "execution_count": 20,
   "metadata": {},
   "outputs": [
    {
     "name": "stderr",
     "output_type": "stream",
     "text": [
      "C:\\Users\\User\\Anaconda3\\lib\\site-packages\\jpype\\_core.py:218: UserWarning: \n",
      "-------------------------------------------------------------------------------\n",
      "Deprecated: convertStrings was not specified when starting the JVM. The default\n",
      "behavior in JPype will be False starting in JPype 0.8. The recommended setting\n",
      "for new code is convertStrings=False.  The legacy value of True was assumed for\n",
      "this session. If you are a user of an application that reported this warning,\n",
      "please file a ticket with the developer.\n",
      "-------------------------------------------------------------------------------\n",
      "\n",
      "  \"\"\")\n"
     ]
    }
   ],
   "source": [
    "from konlpy.tag import Okt\n",
    "okt = Okt()\n",
    "tokens_c = okt.morphs(c) #형태소 단위로 tokenize"
   ]
  },
  {
   "cell_type": "code",
   "execution_count": 21,
   "metadata": {},
   "outputs": [
    {
     "data": {
      "text/plain": [
       "103"
      ]
     },
     "execution_count": 21,
     "metadata": {},
     "output_type": "execute_result"
    }
   ],
   "source": [
    "len(tokens_c)"
   ]
  },
  {
   "cell_type": "code",
   "execution_count": 22,
   "metadata": {},
   "outputs": [
    {
     "data": {
      "text/plain": [
       "list"
      ]
     },
     "execution_count": 22,
     "metadata": {},
     "output_type": "execute_result"
    }
   ],
   "source": [
    "type(tokens_c)"
   ]
  },
  {
   "cell_type": "code",
   "execution_count": 23,
   "metadata": {},
   "outputs": [
    {
     "data": {
      "text/plain": [
       "'동 해물 과 백두산 이 마르고 닳도록 하느님 이 보우 하사 우리나라 만세 무궁화 삼천리 화려 강산 대한 사람 대한 으로 길이 보전 하세 남산 위 에 저 소나무 철갑 을 두른듯 바람 서리 불변 함 은 우리 기상 일세 무궁화 삼천리 화려 강산 대한 사람 대한 으로 길이 보전 하세가을 하늘 공 활 한 데 높고 구름 없이 밝은 달 은 우리 가슴 일편단심 일세 무궁화 삼천리 화려 강산 대한 사람 대한 으로 길이 보전 하 세이 기상 과 이 맘 으로 충성 을 다 하여 괴로우나 즐거우나 나라 사랑 하세 무궁화 삼천리 화려 강산 대한 사람 대한 으로 길이 보전 하세'"
      ]
     },
     "execution_count": 23,
     "metadata": {},
     "output_type": "execute_result"
    }
   ],
   "source": [
    "\" \".join(tokens_c)"
   ]
  },
  {
   "cell_type": "markdown",
   "metadata": {},
   "source": [
    "### nltk의 Text class를 이용하여 다양한 기능을 수행\n",
    "http://www.nltk.org/_modules/nltk/text.html\n",
    "\n",
    "https://www.nltk.org/book/ch01.html"
   ]
  },
  {
   "cell_type": "code",
   "execution_count": 25,
   "metadata": {},
   "outputs": [
    {
     "data": {
      "text/plain": [
       "<Text: 애국가>"
      ]
     },
     "execution_count": 25,
     "metadata": {},
     "output_type": "execute_result"
    }
   ],
   "source": [
    "import nltk\n",
    "c_nltk_text = nltk.Text(tokens_c, name = \"애국가\") #tokens_c 대신 c를 쓰면 어떻게 될까?\n",
    "c_nltk_text"
   ]
  },
  {
   "cell_type": "code",
   "execution_count": 26,
   "metadata": {},
   "outputs": [
    {
     "name": "stdout",
     "output_type": "stream",
     "text": [
      "103\n",
      "61\n"
     ]
    }
   ],
   "source": [
    "# 모든 단어의 수\n",
    "print(len(c_nltk_text.tokens))\n",
    "# 서로 다른 단어의 수\n",
    "print(len(set(c_nltk_text.tokens)))"
   ]
  },
  {
   "cell_type": "code",
   "execution_count": 27,
   "metadata": {},
   "outputs": [
    {
     "data": {
      "text/plain": [
       "FreqDist({'대한': 8, '으로': 5, '무궁화': 4, '삼천리': 4, '화려': 4, '강산': 4, '사람': 4, '길이': 4, '보전': 4, '이': 3, ...})"
      ]
     },
     "execution_count": 27,
     "metadata": {},
     "output_type": "execute_result"
    }
   ],
   "source": [
    "#단어와 단어의 빈도를 dictionary 형태로 표현 \n",
    "c_nltk_text.vocab()"
   ]
  },
  {
   "cell_type": "markdown",
   "metadata": {},
   "source": [
    "#### 그림을 그리기 전 한글폰트를 설정"
   ]
  },
  {
   "cell_type": "code",
   "execution_count": 49,
   "metadata": {},
   "outputs": [],
   "source": [
    "from matplotlib import font_manager, rc\n",
    "from matplotlib import pyplot as plt\n",
    "plt.style.use(\"ggplot\")\n",
    "font_name = font_manager.FontProperties(fname=\"c:/Windows/Fonts/malgun.ttf\").get_name()\n",
    "rc('font', family=font_name)"
   ]
  },
  {
   "cell_type": "code",
   "execution_count": 50,
   "metadata": {},
   "outputs": [
    {
     "data": {
      "image/png": "[encoded data removed]",
      "text/plain": [
       "<Figure size 432x288 with 1 Axes>"
      ]
     },
     "metadata": {
      "needs_background": "light"
     },
     "output_type": "display_data"
    }
   ],
   "source": [
    "#상위 빈도 단어들의 빈도를 그래프로 출력\n",
    "%matplotlib inline\n",
    "c_nltk_text.plot(20)"
   ]
  },
  {
   "cell_type": "markdown",
   "metadata": {},
   "source": [
    "문제점: 의미 없는 단어나 특수문자가 많으므로 정제가 필요"
   ]
  },
  {
   "cell_type": "code",
   "execution_count": 31,
   "metadata": {},
   "outputs": [
    {
     "name": "stdout",
     "output_type": "stream",
     "text": [
      "81\n"
     ]
    }
   ],
   "source": [
    "tokens_new = []\n",
    "for token in tokens_c:\n",
    "    if len(token.strip()) > 1: # 스페이스를 제외한 나머지 문자열의 길이가 둘 이상인 단어만 포함\n",
    "        tokens_new.append(token.strip())\n",
    "print(len(tokens_new))"
   ]
  },
  {
   "cell_type": "code",
   "execution_count": 33,
   "metadata": {},
   "outputs": [
    {
     "data": {
      "image/png": "[encoded data removed]",
      "text/plain": [
       "<Figure size 432x288 with 1 Axes>"
      ]
     },
     "metadata": {
      "needs_background": "light"
     },
     "output_type": "display_data"
    }
   ],
   "source": [
    "plt.style.use(\"seaborn\")\n",
    "c_nltk_text = nltk.Text(tokens_new, name = \"애국가\")\n",
    "c_nltk_text.plot(20)"
   ]
  },
  {
   "cell_type": "code",
   "execution_count": 38,
   "metadata": {},
   "outputs": [
    {
     "data": {
      "text/plain": [
       "8"
      ]
     },
     "execution_count": 38,
     "metadata": {},
     "output_type": "execute_result"
    }
   ],
   "source": [
    "#특정한 단어의 빈도를 알고 싶다면\n",
    "c_nltk_text.count('대한')"
   ]
  },
  {
   "cell_type": "markdown",
   "metadata": {},
   "source": [
    "### context를 보는 방법\n",
    "concordance(): 주어진 단어를 중심으로 앞 뒤의 단어들을 보여 줌"
   ]
  },
  {
   "cell_type": "code",
   "execution_count": 40,
   "metadata": {},
   "outputs": [
    {
     "name": "stdout",
     "output_type": "stream",
     "text": [
      "Displaying 4 of 4 matches:\n",
      " 우리나라 만세 무궁화 삼천리 화려 강산 대한 사람 대한 으로 길이 보전 하세 남산 소나무 철갑 두른듯 바람 서리 불변 우리 기상 일세 무궁\n",
      "우리 기상 일세 무궁화 삼천리 화려 강산 대한 사람 대한 으로 길이 보전 하세가을 하늘 높고 구름 없이 밝은 우리 가슴 일편단심 일세 무궁화\n",
      " 일편단심 일세 무궁화 삼천리 화려 강산 대한 사람 대한 으로 길이 보전 세이 기상 으로 충성 하여 괴로우나 즐거우나 나라 사랑 하세 무궁화\n",
      "나라 사랑 하세 무궁화 삼천리 화려 강산 대한 사람 대한 으로 길이 보전 하세\n"
     ]
    }
   ],
   "source": [
    "c_nltk_text.concordance('보전')"
   ]
  },
  {
   "cell_type": "markdown",
   "metadata": {},
   "source": [
    "collocation is a sequence of words that occur together unusually often."
   ]
  },
  {
   "cell_type": "code",
   "execution_count": 42,
   "metadata": {},
   "outputs": [
    {
     "name": "stderr",
     "output_type": "stream",
     "text": [
      "[nltk_data] Downloading package stopwords to\n",
      "[nltk_data]     C:\\Users\\User\\AppData\\Roaming\\nltk_data...\n"
     ]
    },
    {
     "name": "stdout",
     "output_type": "stream",
     "text": [
      "무궁화 삼천리\n"
     ]
    },
    {
     "name": "stderr",
     "output_type": "stream",
     "text": [
      "[nltk_data]   Unzipping corpora\\stopwords.zip.\n"
     ]
    }
   ],
   "source": [
    "nltk.download('stopwords')\n",
    "# 함께 많이 나타난 단어들을 출력\n",
    "c_nltk_text.collocations()"
   ]
  },
  {
   "cell_type": "markdown",
   "metadata": {},
   "source": [
    "### 명사만 추출해서 처리하기\n",
    "kkma와 Twitter 비교"
   ]
  },
  {
   "cell_type": "code",
   "execution_count": 44,
   "metadata": {},
   "outputs": [
    {
     "name": "stdout",
     "output_type": "stream",
     "text": [
      "70\n",
      "해물 백두산 마르고 하느님 보우 하사 우리나라 만세 무궁화 삼천리 화려 강산 대한 사람 대한 길이 보전 남산 위 저 소나무 철갑 바람 서리 불변 함 우리 기상 무궁화 삼천리 화려 강산 대한 사람 대한 길이 보전 하늘 활 데 구름 달 우리 가슴 일편단심 무궁화 삼천리 화려 강산 대한 사람 대한 길이 보전 세이 기상 이 맘 충성 나라 사랑 무궁화 삼천리 화려 강산 대한 사람 대한 길이 보전\n"
     ]
    }
   ],
   "source": [
    "nc = okt.nouns(c) #nouns_constitution\n",
    "print(len(nc))\n",
    "print(\" \".join(nc))"
   ]
  },
  {
   "cell_type": "code",
   "execution_count": 45,
   "metadata": {},
   "outputs": [
    {
     "data": {
      "image/png": "[encoded data removed]",
      "text/plain": [
       "<Figure size 432x288 with 1 Axes>"
      ]
     },
     "metadata": {
      "needs_background": "light"
     },
     "output_type": "display_data"
    }
   ],
   "source": [
    "ncnt = nltk.Text(nc, name = \"Okt명사\")\n",
    "ncnt.plot(20)"
   ]
  }
 ],
 "metadata": {
  "kernelspec": {
   "display_name": "Python 3",
   "language": "python",
   "name": "python3"
  },
  "language_info": {
   "codemirror_mode": {
    "name": "ipython",
    "version": 3
   },
   "file_extension": ".py",
   "mimetype": "text/x-python",
   "name": "python",
   "nbconvert_exporter": "python",
   "pygments_lexer": "ipython3",
   "version": "3.7.3"
  }
 },
 "nbformat": 4,
 "nbformat_minor": 2
}
