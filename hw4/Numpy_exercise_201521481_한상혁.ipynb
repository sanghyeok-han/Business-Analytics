{
 "cells": [
  {
   "cell_type": "markdown",
   "metadata": {},
   "source": [
    "\n",
    "<h1 id=\"Numpy-기초연습문제\">Numpy 기초연습문제<a class=\"anchor-link\" href=\"#Numpy-기초연습문제\">¶</a></h1><hr/>\n"
   ]
  },
  {
   "cell_type": "code",
   "execution_count": null,
   "metadata": {},
   "outputs": [],
   "source": [
    "\n",
    "import numpy as np\n",
    "\n"
   ]
  },
  {
   "cell_type": "markdown",
   "metadata": {},
   "source": [
    "\n",
    "<h3 id=\"1.-np.zeros를-이용하여-행이-3,-열이-4인-ndarray를-생성하시오.-이-때-생성된-ndarray의-이름은-a가-되도록-한다.\">1. np.zeros를 이용하여 행이 3, 열이 4인 ndarray를 생성하시오. 이 때 생성된 ndarray의 이름은 a가 되도록 한다.<a class=\"anchor-link\" href=\"#1.-np.zeros를-이용하여-행이-3,-열이-4인-ndarray를-생성하시오.-이-때-생성된-ndarray의-이름은-a가-되도록-한다.\">¶</a></h3>\n"
   ]
  },
  {
   "cell_type": "code",
   "execution_count": null,
   "metadata": {},
   "outputs": [],
   "source": [
    "\n",
    "a = np.zeros((3, 4))\n",
    "a\n",
    "\n"
   ]
  },
  {
   "cell_type": "markdown",
   "metadata": {},
   "source": [
    "\n",
    "<h3 id=\"2.-위에서-생성한-ndarray-a에-대하여,-다중-for-문을-이용하여-아래와-같은-값을-갖도록-초기화하시오.\">2. 위에서 생성한 ndarray a에 대하여, 다중 for 문을 이용하여 아래와 같은 값을 갖도록 초기화하시오.<a class=\"anchor-link\" href=\"#2.-위에서-생성한-ndarray-a에-대하여,-다중-for-문을-이용하여-아래와-같은-값을-갖도록-초기화하시오.\">¶</a></h3><div class=\"highlight\"><pre><span></span><span class=\"n\">array</span><span class=\"p\">([[</span> <span class=\"mf\">1.</span><span class=\"p\">,</span>  <span class=\"mf\">2.</span><span class=\"p\">,</span>  <span class=\"mf\">3.</span><span class=\"p\">,</span>  <span class=\"mf\">4.</span><span class=\"p\">],</span>\n",
    "       <span class=\"p\">[</span> <span class=\"mf\">5.</span><span class=\"p\">,</span>  <span class=\"mf\">6.</span><span class=\"p\">,</span>  <span class=\"mf\">7.</span><span class=\"p\">,</span>  <span class=\"mf\">8.</span><span class=\"p\">],</span>\n",
    "       <span class=\"p\">[</span> <span class=\"mf\">9.</span><span class=\"p\">,</span> <span class=\"mf\">10.</span><span class=\"p\">,</span> <span class=\"mf\">11.</span><span class=\"p\">,</span> <span class=\"mf\">12.</span><span class=\"p\">]])</span>\n",
    "</pre></div>\n"
   ]
  },
  {
   "cell_type": "code",
   "execution_count": null,
   "metadata": {},
   "outputs": [],
   "source": [
    "\n",
    "# 이중 for문을 사용하였음\n",
    "for i in range(a.shape[0]):\n",
    "    for j in range(a.shape[1]):\n",
    "        a[i, j] = i*4 + j + 1\n",
    "a\n",
    "\n"
   ]
  },
  {
   "cell_type": "code",
   "execution_count": null,
   "metadata": {},
   "outputs": [],
   "source": [
    "\n",
    "num = 1\n",
    "for i in range(a.shape[0]):\n",
    "    for j in range(a.shape[1]):\n",
    "        a[i, j] =  num\n",
    "        num += 1\n",
    "a\n",
    "\n"
   ]
  },
  {
   "cell_type": "markdown",
   "metadata": {},
   "source": [
    "\n",
    "<h3 id=\"3.-초기화한-a로부터-값-7을-꺼내도록-인덱싱하시오.\">3. 초기화한 a로부터 값 7을 꺼내도록 인덱싱하시오.<a class=\"anchor-link\" href=\"#3.-초기화한-a로부터-값-7을-꺼내도록-인덱싱하시오.\">¶</a></h3>\n"
   ]
  },
  {
   "cell_type": "code",
   "execution_count": null,
   "metadata": {},
   "outputs": [],
   "source": [
    "\n",
    "a[1, 2]\n",
    "\n"
   ]
  },
  {
   "cell_type": "markdown",
   "metadata": {},
   "source": [
    "\n",
    "<h3 id=\"4.-a에서-아래와-같이-둘째-행을-꺼내도록-인덱싱하시오.-단-차원이-유지되어야-한다.\">4. a에서 아래와 같이 둘째 행을 꺼내도록 인덱싱하시오. 단 차원이 유지되어야 한다.<a class=\"anchor-link\" href=\"#4.-a에서-아래와-같이-둘째-행을-꺼내도록-인덱싱하시오.-단-차원이-유지되어야-한다.\">¶</a></h3><p><code>array([[5., 6., 7., 8.]])</code></p>\n"
   ]
  },
  {
   "cell_type": "code",
   "execution_count": null,
   "metadata": {},
   "outputs": [],
   "source": [
    "\n",
    "a.shape\n",
    "\n"
   ]
  },
  {
   "cell_type": "code",
   "execution_count": null,
   "metadata": {},
   "outputs": [],
   "source": [
    "\n",
    "a[[1], :]\n",
    "\n"
   ]
  },
  {
   "cell_type": "markdown",
   "metadata": {},
   "source": [
    "\n",
    "<h3 id=\"5.-a에서-아래와-같이-둘째-열과-셋째-열이-나오도록-인덱싱하시오.\">5. a에서 아래와 같이 둘째 열과 셋째 열이 나오도록 인덱싱하시오.<a class=\"anchor-link\" href=\"#5.-a에서-아래와-같이-둘째-열과-셋째-열이-나오도록-인덱싱하시오.\">¶</a></h3><div class=\"highlight\"><pre><span></span><span class=\"n\">array</span><span class=\"p\">([[</span> <span class=\"mf\">2.</span><span class=\"p\">,</span>  <span class=\"mf\">3.</span><span class=\"p\">],</span>\n",
    "       <span class=\"p\">[</span> <span class=\"mf\">6.</span><span class=\"p\">,</span>  <span class=\"mf\">7.</span><span class=\"p\">],</span>\n",
    "       <span class=\"p\">[</span><span class=\"mf\">10.</span><span class=\"p\">,</span> <span class=\"mf\">11.</span><span class=\"p\">]])</span>\n",
    "</pre></div>\n"
   ]
  },
  {
   "cell_type": "code",
   "execution_count": null,
   "metadata": {},
   "outputs": [],
   "source": [
    "\n",
    "a[:,[0, 2]]\n",
    "\n"
   ]
  },
  {
   "cell_type": "markdown",
   "metadata": {},
   "source": [
    "\n",
    "<h3 id=\"6.-아래와-같이-a에서-6보다-작거나-같은-값들이-나오도록-불리안-인덱싱을-하시오.\">6. 아래와 같이 a에서 6보다 작거나 같은 값들이 나오도록 불리안 인덱싱을 하시오.<a class=\"anchor-link\" href=\"#6.-아래와-같이-a에서-6보다-작거나-같은-값들이-나오도록-불리안-인덱싱을-하시오.\">¶</a></h3><div class=\"highlight\"><pre><span></span><span class=\"n\">array</span><span class=\"p\">([</span><span class=\"mf\">1.</span><span class=\"p\">,</span> <span class=\"mf\">2.</span><span class=\"p\">,</span> <span class=\"mf\">3.</span><span class=\"p\">,</span> <span class=\"mf\">4.</span><span class=\"p\">,</span> <span class=\"mf\">5.</span><span class=\"p\">,</span> <span class=\"mf\">6.</span><span class=\"p\">])</span>\n",
    "</pre></div>\n"
   ]
  },
  {
   "cell_type": "code",
   "execution_count": null,
   "metadata": {},
   "outputs": [],
   "source": [
    "\n",
    "result = np.asarray([a[i, j] for i in range(a.shape[0]) for  j in range(a.shape[1]) if a[i, j] <= 6])\n",
    "result\n",
    "\n"
   ]
  },
  {
   "cell_type": "code",
   "execution_count": null,
   "metadata": {},
   "outputs": [],
   "source": [
    "\n",
    "a[a <= 6]\n",
    "\n"
   ]
  },
  {
   "cell_type": "markdown",
   "metadata": {},
   "source": [
    "\n",
    "<h3 id=\"7.-np.random-패키지를-이용하여-0에서-1사이의-값이-무작위로-생성된,-행이-3-열이-4인-ndarray를-생성하시오.-이-때-생성된-ndarray의-이름은-b가-되도록-한다.\">7. np.random 패키지를 이용하여 0에서 1사이의 값이 무작위로 생성된, 행이 3 열이 4인 ndarray를 생성하시오. 이 때 생성된 ndarray의 이름은 b가 되도록 한다.<a class=\"anchor-link\" href=\"#7.-np.random-패키지를-이용하여-0에서-1사이의-값이-무작위로-생성된,-행이-3-열이-4인-ndarray를-생성하시오.-이-때-생성된-ndarray의-이름은-b가-되도록-한다.\">¶</a></h3>\n"
   ]
  },
  {
   "cell_type": "code",
   "execution_count": null,
   "metadata": {},
   "outputs": [],
   "source": [
    "\n",
    "# 3행 4열의 랜덤 데이터 생성\n",
    "b = np.random.random((3, 4))\n",
    "b\n",
    "\n"
   ]
  },
  {
   "cell_type": "markdown",
   "metadata": {},
   "source": [
    "\n",
    "<h3 id=\"8.-a와-b의-요소곱을-하여-c에-저장하시오.\">8. a와 b의 요소곱을 하여 c에 저장하시오.<a class=\"anchor-link\" href=\"#8.-a와-b의-요소곱을-하여-c에-저장하시오.\">¶</a></h3>\n"
   ]
  },
  {
   "cell_type": "code",
   "execution_count": null,
   "metadata": {},
   "outputs": [],
   "source": [
    "\n",
    "c = a * b\n",
    "c\n",
    "\n"
   ]
  },
  {
   "cell_type": "markdown",
   "metadata": {},
   "source": [
    "\n",
    "<h3 id=\"9.-b의-전치행렬을-구하여-d에-저장하시오.\">9. b의 전치행렬을 구하여 d에 저장하시오.<a class=\"anchor-link\" href=\"#9.-b의-전치행렬을-구하여-d에-저장하시오.\">¶</a></h3>\n"
   ]
  },
  {
   "cell_type": "code",
   "execution_count": null,
   "metadata": {},
   "outputs": [],
   "source": [
    "\n",
    "d = b.T\n",
    "d\n",
    "\n"
   ]
  },
  {
   "cell_type": "code",
   "execution_count": null,
   "metadata": {},
   "outputs": [],
   "source": [
    "\n",
    "d.shape\n",
    "\n"
   ]
  },
  {
   "cell_type": "markdown",
   "metadata": {},
   "source": [
    "\n",
    "<h3 id=\"10.-a와-d에-대하여-각-차원의-크기를-출력하시오.\">10. a와 d에 대하여 각 차원의 크기를 출력하시오.<a class=\"anchor-link\" href=\"#10.-a와-d에-대하여-각-차원의-크기를-출력하시오.\">¶</a></h3>\n"
   ]
  },
  {
   "cell_type": "code",
   "execution_count": null,
   "metadata": {},
   "outputs": [],
   "source": [
    "\n",
    "print(a.shape, d.shape)\n",
    "\n"
   ]
  },
  {
   "cell_type": "markdown",
   "metadata": {},
   "source": [
    "\n",
    "<h3 id=\"11.-a와-d의-행렬곱을-계산하여-e에-저장하시오.\">11. a와 d의 행렬곱을 계산하여 e에 저장하시오.<a class=\"anchor-link\" href=\"#11.-a와-d의-행렬곱을-계산하여-e에-저장하시오.\">¶</a></h3>\n"
   ]
  },
  {
   "cell_type": "code",
   "execution_count": null,
   "metadata": {},
   "outputs": [],
   "source": [
    "\n",
    "e = a.dot(d)\n",
    "e\n",
    "\n"
   ]
  },
  {
   "cell_type": "markdown",
   "metadata": {},
   "source": [
    "\n",
    "<h3 id=\"12.-e에-대하여-각-열의-합을-계산하시오.\">12. e에 대하여 각 열의 합을 계산하시오.<a class=\"anchor-link\" href=\"#12.-e에-대하여-각-열의-합을-계산하시오.\">¶</a></h3>\n"
   ]
  },
  {
   "cell_type": "code",
   "execution_count": null,
   "metadata": {},
   "outputs": [],
   "source": [
    "\n",
    "# 보통 axis=0의 경우 행이 됨\n",
    "np.sum(e, axis=1)\n",
    "\n"
   ]
  }
 ],
 "metadata": {
  "kernelspec": {
   "display_name": "Python 3",
   "language": "python",
   "name": "python3"
  },
  "language_info": {
   "codemirror_mode": {
    "name": "ipython",
    "version": 3
   },
   "file_extension": ".py",
   "mimetype": "text/x-python",
   "name": "python",
   "nbconvert_exporter": "python",
   "pygments_lexer": "ipython3",
   "version": "3.7.3"
  }
 },
 "nbformat": 4,
 "nbformat_minor": 1
}
